{
 "cells": [
  {
   "cell_type": "markdown",
   "metadata": {},
   "source": [
    "### Basics"
   ]
  },
  {
   "cell_type": "code",
   "execution_count": null,
   "metadata": {},
   "outputs": [],
   "source": [
    "# math\n",
    "print(8**3)\n",
    "print(8 % 3)\n",
    "print(8 // 3)\n",
    "print(8 * 3)\n",
    "print(8 / 3)\n",
    "print(8 + 3)\n",
    "print(8 - 3)\n",
    "\n",
    "\n",
    "var = 0\n",
    "# augmented assignment\n",
    "var += 1\n",
    "var **= 2\n",
    "\n",
    "my_list = [\"item\"]\n",
    "my_list *= 3\n",
    "print(my_list)\n",
    "\n",
    "# Walrus Operator\n",
    "print(my_var:=\"hello World\")\n",
    "print(my_var*2)\n",
    "\n",
    "def foo():\n",
    "\t\"\"\"\n",
    "\tThis is a function docstring\n",
    "\tYou can also use:\n",
    "\t''' Function Docstring '''\t\n",
    "\n",
    "\t\"\"\"\n",
    "\t\n",
    "\n",
    "foo()"
   ]
  },
  {
   "cell_type": "code",
   "execution_count": null,
   "metadata": {},
   "outputs": [],
   "source": [
    "# Exercise 16. Reading and Writing Files\n",
    "filename = \"test.txt\"\n",
    "\n",
    "print(f\"We're going to erase {filename}.\")\n",
    "print(\"If you don't want that, hit CTRL-C *(*^C*)*.\")\n",
    "print(\"If you do want that, hit RETURN.\")\n",
    "\n",
    "input(\"?\")\n",
    "\n",
    "print(\"Opening the file...\")\n",
    "target = open(filename, 'w')\n",
    "\n",
    "print(\"Truncating the file. Goodbye!\")\n",
    "target.truncate()\n",
    "\n",
    "print(\"Now I'm going to ask you for three lines.\")\n",
    "\n",
    "line1 = input(\"line 1: \")\n",
    "line2 = input(\"line 2: \")\n",
    "line3 = input(\"line 3: \")\n",
    "\n",
    "print(\"I'm going to write these to the file.\")\n",
    "\n",
    "target.write(line1)\n",
    "target.write(\"\\n\")\n",
    "target.write(line2)\n",
    "target.write(\"\\n\")\n",
    "target.write(line3)\n",
    "target.write(\"\\n\")\n",
    "\n",
    "print(\"And finally, we close it.\")\n",
    "target.close()"
   ]
  },
  {
   "cell_type": "code",
   "execution_count": null,
   "metadata": {},
   "outputs": [],
   "source": [
    "# Exercise 17. More Files\n",
    "\n",
    "from sys import argv\n",
    "from os.path import exists\n",
    "\n",
    "from_file = \"test.txt\"\n",
    "to_file = \"new_test.txt\"\n",
    "\n",
    "print(f\"Copying from {from_file} to {to_file}\")\n",
    "\n",
    "inData = open(from_file).read()\n",
    "print(f\"The input file is {len(inData)} bytes long\")\n",
    "print(f\"Does the output file exist? {exists(to_file)}\")   \n",
    "print(\"Ready, hit RETURN to continue, CTRL-C to abort.\")\n",
    "input()\n",
    "\n",
    "open(to_file,'w').write(inData)\n",
    "\n",
    "print(\"Alright, all done.\")\n",
    "\n",
    "\n"
   ]
  },
  {
   "cell_type": "code",
   "execution_count": null,
   "metadata": {},
   "outputs": [],
   "source": [
    "# Exercise 18. Names, Variables, Code, Functions\n",
    "\n",
    "def two_args(*args):\n",
    "\targ1 , arg2 = args\n",
    "\tprint(f\"arg1:{arg1} and arg2: {arg2}\")\n",
    "\t\n",
    "two_args(\"akib\",\"Hasan\")"
   ]
  },
  {
   "cell_type": "code",
   "execution_count": null,
   "metadata": {},
   "outputs": [],
   "source": [
    "from sys import argv\n",
    "\n",
    "script, input_file = argv\n",
    "\n",
    "def  print_all(f):\n",
    "\tprint(f.read())\n",
    "\t\n",
    "def rewind(f):\n",
    "\tf.seek(0)\n",
    "\t\n",
    "def print_a_line(line_count,f):\n",
    "\tprint(line_count,f.readline())\n",
    "\t\n",
    "current_file = open(\"test.txt\")\n",
    "\n",
    "print(\"First let's print the whole file:\\n\")\n",
    "\n",
    "print_all(current_file)\n",
    "\n",
    "print(\"Now let's rewind, kind of like a tape.\")\n",
    "\n",
    "rewind(current_file)\n",
    "\n",
    "print(\"Let's print three lines:\")\n",
    "\n",
    "current_line = 1\n",
    "print_a_line(current_line, current_file)\n",
    "\n",
    "current_line = current_line + 1\n",
    "print_a_line(current_line, current_file)\n",
    "\n",
    "current_line = current_line + 1\n",
    "print_a_line(current_line, current_file)"
   ]
  },
  {
   "cell_type": "code",
   "execution_count": null,
   "metadata": {},
   "outputs": [],
   "source": [
    "# Functions can Return Something\n",
    "\n",
    "def add(a, b):\n",
    "\tprint(f\"ADDING {a} + {b}\")\n",
    "\treturn a + b\n",
    "\n",
    "def subtract(a, b):\n",
    "\tprint(f\"SUBTRACTING {a} - {b}\")\n",
    "\treturn a - b\n",
    "\n",
    "def multiply(a, b):\n",
    "\tprint(f\"MULTIPLYING {a} * {b}\")\n",
    "\treturn a * b\n",
    "\n",
    "def divide(a, b):\n",
    "\tprint(f\"DIVIDING {a} / {b}\")\n",
    "\treturn a / b\n",
    "\n",
    "\n",
    "print(\"Let's do some math with just functions!\")\n",
    "\n",
    "age = add(30, 5)\n",
    "height = subtract(78, 4)\n",
    "weight = multiply(90, 2)\n",
    "iq = divide(100, 2)\n",
    "\n",
    "print(f\"Age: {age}, Height: {height}, Weight: {weight}, IQ: {iq}\")\n",
    "\n",
    "\n",
    "# A puzzle for the extra credit, type it in anyway.\n",
    "print(\"Here is a puzzle.\")\n",
    "\n",
    "what = add(age, subtract(height, multiply(weight, divide(iq, 2))))\n",
    "\n",
    "print(\"That becomes: \", what, \"Can you do it by hand?\")"
   ]
  },
  {
   "cell_type": "code",
   "execution_count": 15,
   "metadata": {},
   "outputs": [
    {
     "data": {
      "text/plain": [
       "True"
      ]
     },
     "execution_count": 15,
     "metadata": {},
     "output_type": "execute_result"
    }
   ],
   "source": [
    "raw_bytes = b'\\xe6\\x96\\x87\\xe8\\xa8\\x80'\n",
    "raw_bytes.decode()\n",
    "utf_string = '文言'\n",
    "raw_bytes == utf_string.encode()"
   ]
  },
  {
   "cell_type": "code",
   "execution_count": null,
   "metadata": {},
   "outputs": [],
   "source": [
    "# List 23.1 Challange\n",
    "\n",
    "fruit = [\n",
    "\t{'kind': 'Apples',  'count': 12, 'rating': 'AAA'},\n",
    "\t{'kind': 'Oranges', 'count': 1,  'rating': 'B'},\n",
    "\t{'kind': 'Pears',   'count': 2,  'rating': 'A'},\n",
    "\t{'kind': 'Grapes',  'count': 14, 'rating': 'UR'}\n",
    "];\n",
    "\n",
    "\n",
    "item = 'AAA'\n",
    "for x in fruit:\n",
    "\tfor y,z in zip(x.values(),x.keys()):\n",
    "\t\tif y==item:\n",
    "\t\t\tprint(f\"fruit[{fruit.index(x)}].{z}\")"
   ]
  },
  {
   "cell_type": "code",
   "execution_count": 36,
   "metadata": {},
   "outputs": [
    {
     "name": "stdout",
     "output_type": "stream",
     "text": [
      "True \t\n",
      "False \t\n",
      "False \t\n",
      "True \t\n",
      "True \t\n",
      "True \t\n",
      "False \t\n",
      "True \t\n",
      "False \t\n",
      "False \t\n",
      "True \t\n",
      "False \t\n",
      "True \t\n",
      "False \t\n",
      "False \t\n",
      "False \t\n",
      "True \t\n",
      "True \t\n",
      "False \t\n",
      "False \t\n"
     ]
    }
   ],
   "source": [
    "comms = [\n",
    "    \"True and True\",\n",
    "    \"False and True\",\n",
    "    \"1 == 1 and 2 == 1\",\n",
    "    '\"test\" == \"test\"',\n",
    "    \"1 == 1 or 2 != 1\",\n",
    "    \"True and 1 == 1\",\n",
    "    \"False and 0 != 0\",\n",
    "    \"True or 1 == 1\",\n",
    "    '\"test\" == \"testing\"',\n",
    "    \"1 != 0 and 2 == 1\",\n",
    "    '\"test\" != \"testing\"',\n",
    "    '\"test\" == 1',\n",
    "    \"not (True and False)\",\n",
    "    \"not (1 == 1 and 0 != 1)\",\n",
    "    \"not (10 == 1 or 1000 == 1000)\",\n",
    "    \"not (1 != 10 or 3 == 4)\",\n",
    "    'not (\"testing\" == \"testing\" and \"Zed\" == \"Cool Guy\")',\n",
    "    '1 == 1 and (not (\"testing\" == 1 or 1 == 0))',\n",
    "    '\"chunky\" == \"bacon\" and (not (3 == 4 or 3 == 3))',\n",
    "    '3 != 3 and (not (\"testing\" == \"testing\" or \"Python\" == \"Fun\"))',\n",
    "]\n",
    "for item in comms:\n",
    "\tprint(eval(item),\"\\t\")\n"
   ]
  },
  {
   "cell_type": "markdown",
   "metadata": {},
   "source": [
    "### Built-in functions"
   ]
  },
  {
   "cell_type": "code",
   "execution_count": 3,
   "metadata": {},
   "outputs": [
    {
     "ename": "SyntaxError",
     "evalue": "invalid syntax (4261772407.py, line 3)",
     "output_type": "error",
     "traceback": [
      "\u001b[0;36m  Cell \u001b[0;32mIn[3], line 3\u001b[0;36m\u001b[0m\n\u001b[0;31m    print(del(y))\u001b[0m\n\u001b[0m          ^\u001b[0m\n\u001b[0;31mSyntaxError\u001b[0m\u001b[0;31m:\u001b[0m invalid syntax\n"
     ]
    }
   ],
   "source": [
    "x = 10\n",
    "y = 20\n",
    "del"
   ]
  }
 ],
 "metadata": {
  "kernelspec": {
   "display_name": "Python 3",
   "language": "python",
   "name": "python3"
  },
  "language_info": {
   "codemirror_mode": {
    "name": "ipython",
    "version": 3
   },
   "file_extension": ".py",
   "mimetype": "text/x-python",
   "name": "python",
   "nbconvert_exporter": "python",
   "pygments_lexer": "ipython3",
   "version": "3.12.4"
  }
 },
 "nbformat": 4,
 "nbformat_minor": 2
}
