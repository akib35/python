{
 "cells": [
  {
   "cell_type": "markdown",
   "metadata": {},
   "source": [
    "### Importing Libraries"
   ]
  },
  {
   "cell_type": "code",
   "execution_count": 2,
   "metadata": {},
   "outputs": [],
   "source": [
    "import numpy as np\n",
    "import pandas as pd\n",
    "# import matplotlib.pyplot as plt"
   ]
  },
  {
   "cell_type": "markdown",
   "metadata": {},
   "source": [
    "### Importing Datasets"
   ]
  },
  {
   "cell_type": "code",
   "execution_count": 3,
   "metadata": {},
   "outputs": [
    {
     "name": "stdout",
     "output_type": "stream",
     "text": [
      "[[20  1]\n",
      " [23  1]\n",
      " [25  1]\n",
      " [26  1]\n",
      " [29  1]\n",
      " [30  1]\n",
      " [31  1]\n",
      " [33  1]\n",
      " [37  1]\n",
      " [20  0]\n",
      " [21  0]\n",
      " [25  0]\n",
      " [26  0]\n",
      " [27  0]\n",
      " [30  0]\n",
      " [31  0]\n",
      " [34  0]\n",
      " [35  0]] ['HipHop' 'HipHop' 'HipHop' 'Jazz' 'Jazz' 'Jazz' 'Classical' 'Classical'\n",
      " 'Classical' 'Dance' 'Dance' 'Dance' 'Acoustic' 'Acoustic' 'Acoustic'\n",
      " 'Classical' 'Classical' 'Classical']\n"
     ]
    }
   ],
   "source": [
    "dataset = pd.read_csv('music.csv')\n",
    "x = dataset.iloc[:, :-1].values\n",
    "y = dataset.iloc[:, -1].values\n",
    "print(x,y)"
   ]
  }
 ],
 "metadata": {
  "kernelspec": {
   "display_name": "venv",
   "language": "python",
   "name": "python3"
  },
  "language_info": {
   "codemirror_mode": {
    "name": "ipython",
    "version": 3
   },
   "file_extension": ".py",
   "mimetype": "text/x-python",
   "name": "python",
   "nbconvert_exporter": "python",
   "pygments_lexer": "ipython3",
   "version": "3.12.5"
  }
 },
 "nbformat": 4,
 "nbformat_minor": 2
}
