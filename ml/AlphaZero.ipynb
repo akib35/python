{
 "cells": [
  {
   "cell_type": "code",
   "execution_count": 12,
   "metadata": {},
   "outputs": [],
   "source": [
    "import numpy as np"
   ]
  },
  {
   "cell_type": "code",
   "execution_count": 13,
   "metadata": {},
   "outputs": [],
   "source": [
    "class TicTacToe:\n",
    "    def __init__(self):\n",
    "        self.row_count = 3\n",
    "        self.column_count = 3\n",
    "        self.action_size = self.row_count * self.column_count\n",
    "\n",
    "    def get_initial_state(self):\n",
    "        return np.zeros((self.row_count, self.column_count))\n",
    "\n",
    "    def get_next_state(self, state, action, player):\n",
    "        row = action // self.column_count\n",
    "        column = action % self.column_count\n",
    "        state[row, column] = player\n",
    "        return state\n",
    "\n",
    "    def get_valid_move(self, state):\n",
    "        return (state.reshape(-1) == 0).astype(np.uint8)\n",
    "\n",
    "    def check_win(self, state, action):\n",
    "        row = action // self.column_count\n",
    "        column = action % self.column_count\n",
    "        player = state[row, column]\n",
    "\n",
    "        return (\n",
    "            np.sum(state[row:]) == player * self.column_count\n",
    "            or np.sum(state[:column]) == player * self.row_count\n",
    "            or np.sum(np.diag(state)) == player * self.row_count\n",
    "            or np.sum(np.diag(np.flip(state, axis=0)) == player * self.row_count)\n",
    "        )\n",
    "\n",
    "    def get_value_and_terminated(self, state, action):\n",
    "        if self.check_win(state, action):\n",
    "            return 1, True\n",
    "        if np.sum(self.get_valid_move(state) == 0):\n",
    "            return 0, True\n",
    "        return 0, False\n",
    "\n",
    "    def get_opponent(self, player):\n",
    "        return -player"
   ]
  },
  {
   "cell_type": "code",
   "execution_count": null,
   "metadata": {},
   "outputs": [],
   "source": [
    "tictactoe = TicTacToe()\n",
    "player = 1\n",
    "state = tictactoe.get_initial_state()\n",
    "\n",
    "while True:\n",
    "\tprint(state)\n",
    "\tvalid_moves = tictactoe.get_valid_move(state)\n",
    "\tprint(\n",
    "\t\t\"valid moves: \",\n",
    "\t\t[i for i in range(tictactoe.action_size) if valid_moves[i] == 1],\n",
    "\t)\n",
    "\taction = int(input(f\"player {player}:\"))\n",
    "\n",
    "\tif valid_moves[action] == 0:\n",
    "\t\tprint(\"action not valid\")\n",
    "\t\tcontinue\n",
    "\n",
    "\tstate = tictactoe.get_next_state(state, action, player)\n",
    "\tvalue, is_terminal = tictactoe.get_value_and_terminated(state, action)\n",
    "\n",
    "\tif is_terminal:\n",
    "\t\tprint(state)\n",
    "\t\tif value == 1:\n",
    "\t\t\tprint(player, \"Won\")\n",
    "\t\telse:\n",
    "\t\t\tprint(\"draw\")\n",
    "\t\tbreak\n",
    "\tplayer = tictactoe.get_opponent(player)"
   ]
  },
  {
   "cell_type": "code",
   "execution_count": 18,
   "metadata": {},
   "outputs": [
    {
     "name": "stdout",
     "output_type": "stream",
     "text": [
      "[1 1 1 1 1 1 1 1 1]\n"
     ]
    }
   ],
   "source": [
    "arr = np.zeros((3,3))\n",
    "print((arr.reshape(-1) == 0).astype(np.uint8))"
   ]
  }
 ],
 "metadata": {
  "kernelspec": {
   "display_name": "venv",
   "language": "python",
   "name": "python3"
  },
  "language_info": {
   "codemirror_mode": {
    "name": "ipython",
    "version": 3
   },
   "file_extension": ".py",
   "mimetype": "text/x-python",
   "name": "python",
   "nbconvert_exporter": "python",
   "pygments_lexer": "ipython3",
   "version": "3.12.3"
  }
 },
 "nbformat": 4,
 "nbformat_minor": 2
}
