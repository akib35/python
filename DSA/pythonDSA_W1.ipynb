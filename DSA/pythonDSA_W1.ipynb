{
 "cells": [
  {
   "cell_type": "code",
   "execution_count": null,
   "metadata": {},
   "outputs": [],
   "source": [
    "test = [[1,2,3,4,5,6],[2,3,4,5,6,1],[6,1,2,3,4,5],[4,5,6,1,2,3],[],[1,2],[2,1],[1]]"
   ]
  },
  {
   "cell_type": "code",
   "execution_count": null,
   "metadata": {},
   "outputs": [],
   "source": [
    "def binary_search(sequence):\n",
    "    lo, hi = 0, len(sequence) - 1\n",
    "    while lo <= hi:\n",
    "        mid = (lo + hi) // 2\n",
    "        result = condition(sequence, mid)\n",
    "\n",
    "        if result == \"found\":\n",
    "            return len(sequence)-mid\n",
    "        elif result == \"right\":\n",
    "            lo = mid + 1\n",
    "        elif result == \"left\":\n",
    "            hi = mid - 1\n",
    "\n",
    "\n",
    "def condition(sequence, idx):\n",
    "    value = sequence[idx]\n",
    "    if idx - 1 >= 0 and value < sequence[idx - 1]:\n",
    "        return \"found\"\n",
    "    elif value < sequence[-1]:\n",
    "        return \"left\"\n",
    "    else:\n",
    "        return \"right\"\n",
    "\n",
    "\n",
    "for item in test:\n",
    "    print(binary_search(item))"
   ]
  },
  {
   "cell_type": "code",
   "execution_count": 2,
   "metadata": {},
   "outputs": [],
   "source": [
    "# test\n",
    "test0 = {\"input\": {\"sequence\": [1, 2, 3, 4, 5, 6], \"item\": 3}, \"output\": 3}\n",
    "test1 = {\"input\": {\"sequence\": [2, 3, 4, 5, 6, 1], \"item\": 3}, \"output\": 2}\n",
    "tests = [test0, test1]"
   ]
  },
  {
   "cell_type": "code",
   "execution_count": 18,
   "metadata": {},
   "outputs": [
    {
     "name": "stdout",
     "output_type": "stream",
     "text": [
      "3\n",
      "False\n",
      "2\n",
      "False\n"
     ]
    }
   ],
   "source": [
    "def binary_search(sequence, item):\n",
    "    lo, hi = 0, len(sequence) - 1\n",
    "    while lo <= hi:\n",
    "        mid = (lo + hi) // 2\n",
    "        result = condition(sequence, mid, item,hi)\n",
    "\n",
    "        if result == \"found\":\n",
    "            return mid\n",
    "        elif result == \"right\":\n",
    "            lo = mid + 1\n",
    "        elif result == \"left\":\n",
    "            hi = mid - 1\n",
    "    return 0\n",
    "\n",
    "\n",
    "def condition(sequence, idx, item,hi):\n",
    "    value = sequence[idx]\n",
    "    if value == item:\n",
    "        return \"found\"\n",
    "    elif value < sequence[hi] and item > value:\n",
    "        return \"right\"\n",
    "    else:\n",
    "        return \"left\"\n",
    "\n",
    "\n",
    "def searchInRotatedList(sequence, item):\n",
    "    return print( binary_search(sequence, item) + 1)\n",
    "\n",
    "for item in tests:\n",
    "    (searchInRotatedList(**item['input'])==item['output'])"
   ]
  }
 ],
 "metadata": {
  "kernelspec": {
   "display_name": "venv",
   "language": "python",
   "name": "python3"
  },
  "language_info": {
   "codemirror_mode": {
    "name": "ipython",
    "version": 3
   },
   "file_extension": ".py",
   "mimetype": "text/x-python",
   "name": "python",
   "nbconvert_exporter": "python",
   "pygments_lexer": "ipython3",
   "version": "3.12.4"
  }
 },
 "nbformat": 4,
 "nbformat_minor": 2
}
