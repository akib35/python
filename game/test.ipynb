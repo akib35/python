{
 "cells": [
  {
   "cell_type": "code",
   "execution_count": 1,
   "metadata": {},
   "outputs": [
    {
     "name": "stdout",
     "output_type": "stream",
     "text": [
      "pygame 2.5.2 (SDL 2.28.2, Python 3.11.7)\n",
      "Hello from the pygame community. https://www.pygame.org/contribute.html\n"
     ]
    }
   ],
   "source": [
    "import pygame\n",
    "import random"
   ]
  },
  {
   "cell_type": "code",
   "execution_count": null,
   "metadata": {},
   "outputs": [],
   "source": [
    "\n",
    "pygame.init()\n",
    "\n",
    "WIDTH,HEIGHT = 800,600\n",
    "WHITE = (255,255,255)\n",
    "BLACK = (0,0,0,0)\n",
    "\n",
    "screen = pygame.display.set_mode((WIDTH,HEIGHT))\n",
    "pygame.display.set_caption(\"Hangman\")"
   ]
  },
  {
   "cell_type": "code",
   "execution_count": null,
   "metadata": {},
   "outputs": [],
   "source": [
    "def draw_hangman(incorrect_guess):\n",
    "\tif(incorrect_guess)\n",
    "\tpass"
   ]
  },
  {
   "cell_type": "code",
   "execution_count": null,
   "metadata": {},
   "outputs": [],
   "source": [
    "def handle_input(guessed_letters, word, incorrect_guesses):\n",
    "    keys = \n",
    "    pass"
   ]
  },
  {
   "cell_type": "code",
   "execution_count": null,
   "metadata": {},
   "outputs": [],
   "source": [
    "def draw_word(guessed_letters, word):\n",
    "\tpass"
   ]
  },
  {
   "cell_type": "code",
   "execution_count": null,
   "metadata": {},
   "outputs": [],
   "source": [
    "def main():\n",
    "    # Choose a random word\n",
    "    word = random.choice([\"python\", \"programming\", \"pygame\"])\n",
    "\n",
    "    # Initialize variables for the hangman and guessed letters\n",
    "    incorrect_guesses = 0\n",
    "    guessed_letters = []\n",
    "    maximum_guesses = len(word)\n",
    "\n",
    "    # Run the game loop\n",
    "    running = True\n",
    "    while running:\n",
    "        # Handle events\n",
    "        for event in pygame.event.get():\n",
    "            if event.type == pygame.QUIT:\n",
    "                running = False\n",
    "\n",
    "        # Draw the hangman and word\n",
    "        screen.fill(WHITE)\n",
    "        draw_hangman(incorrect_guesses)\n",
    "        draw_word(word, guessed_letters)\n",
    "\n",
    "        # Handle input\n",
    "        guessed_letters, incorrect_guesses = handle_input(\n",
    "            guessed_letters, word, incorrect_guesses\n",
    "        )\n",
    "\n",
    "        # Update the display\n",
    "        pygame.display.flip()\n",
    "\n",
    "    # Game over\n",
    "    pygame.quit()\n",
    "\n",
    "\n",
    "if __name__ == \"__main__\":\n",
    "    main()"
   ]
  }
 ],
 "metadata": {
  "kernelspec": {
   "display_name": "venv",
   "language": "python",
   "name": "python3"
  },
  "language_info": {
   "codemirror_mode": {
    "name": "ipython",
    "version": 3
   },
   "file_extension": ".py",
   "mimetype": "text/x-python",
   "name": "python",
   "nbconvert_exporter": "python",
   "pygments_lexer": "ipython3",
   "version": "3.11.7"
  }
 },
 "nbformat": 4,
 "nbformat_minor": 2
}
