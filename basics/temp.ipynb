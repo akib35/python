{
 "cells": [
  {
   "cell_type": "code",
   "execution_count": null,
   "metadata": {
    "editable": true,
    "slideshow": {
     "slide_type": ""
    },
    "tags": []
   },
   "outputs": [],
   "source": [
    "age = input(\"How old are you? \")\n",
    "height = input(\"How tall are you? \")\n",
    "weight = input(\"How much do you weigh? \")\n",
    "print(f\"So, you're {age} old, {height} tall and {weight} heavy.\")"
   ]
  },
  {
   "cell_type": "code",
   "execution_count": 3,
   "metadata": {},
   "outputs": [
    {
     "name": "stdout",
     "output_type": "stream",
     "text": [
      "1 1 14\n",
      "Original code execution time: 0.001390 seconds\n",
      "Optimized code execution time: 0.011485 seconds\n"
     ]
    }
   ],
   "source": [
    "import time\n",
    "from math import gcd\n",
    "\n",
    "# Original code\n",
    "start_time = time.time()\n",
    "\n",
    "found = False\n",
    "for i in range(1, 100):\n",
    "    for j in range(1, 100):\n",
    "        for k in range(1, 100):\n",
    "            if (132 * k - 1 - 7 * j) % (23 * i) == 0:\n",
    "                print(i, j, k)\n",
    "                found = True\n",
    "                break\n",
    "        if found:\n",
    "            break\n",
    "    if found:\n",
    "        break\n",
    "\n",
    "original_time = time.time() - start_time\n",
    "\n",
    "# Optimized code\n",
    "def lcm(a, b):\n",
    "    return abs(a * b) // gcd(a, b)\n",
    "\n",
    "start_time = time.time()\n",
    "\n",
    "found = False\n",
    "lcm_23_132 = lcm(23, 132)\n",
    "\n",
    "for i in range(1, 100):\n",
    "    for j in range(1, 100):\n",
    "        remainder = (132 - 7 * j - 1) % 23\n",
    "        if remainder == 0:\n",
    "            k = (132 - 7 * j - 1) // 23\n",
    "            if 1 <= k < 100:\n",
    "                print(i, j, k)\n",
    "                found = True\n",
    "                break\n",
    "    if found:\n",
    "        break\n",
    "\n",
    "optimized_time = time.time() - start_time\n",
    "\n",
    "print(f\"Original code execution time: {original_time:.6f} seconds\")\n",
    "print(f\"Optimized code execution time: {optimized_time:.6f} seconds\")"
   ]
  }
 ],
 "metadata": {
  "kernelspec": {
   "display_name": "venv",
   "language": "python",
   "name": "python3"
  },
  "language_info": {
   "codemirror_mode": {
    "name": "ipython",
    "version": 3
   },
   "file_extension": ".py",
   "mimetype": "text/x-python",
   "name": "python",
   "nbconvert_exporter": "python",
   "pygments_lexer": "ipython3",
   "version": "3.12.6"
  }
 },
 "nbformat": 4,
 "nbformat_minor": 4
}
