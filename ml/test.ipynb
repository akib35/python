{
 "cells": [
  {
   "cell_type": "code",
   "execution_count": 6,
   "metadata": {},
   "outputs": [],
   "source": [
    "import openpyxl as xl\n",
    "from openpyxl.chart import BarChart, Reference\n",
    "\n",
    "\n",
    "def process_workbook( filename):\n",
    "\twb = xl.load_workbook(filename)\n",
    "\tsheet = wb[\"Sheet1\"]\n",
    "\n",
    "\tfor row in range(2, sheet.max_row + 1):\n",
    "\t\tcell = sheet.cell(row, 3)\n",
    "\t\tnex_cell = sheet.cell(row, 4)\n",
    "\t\tcorr_p = float(cell.value) * 0.9  # type: ignore\n",
    "\t\tnex_cell.value = corr_p\n",
    "\n",
    "\tvalues = Reference(sheet, min_row=2, max_row=sheet.max_row, min_col=4, max_col=4)\n",
    "\tchart = BarChart()\n",
    "\tchart.add_data(values)\n",
    "\tsheet.add_chart(chart, \"f2\")\n",
    "\n",
    "\twb.save(filename)\n",
    "\t\n"
   ]
  },
  {
   "cell_type": "code",
   "execution_count": null,
   "metadata": {},
   "outputs": [],
   "source": [
    "import pandas as pd\n",
    "df = pd.read_csv('vgsales.csv')\n",
    "df.describe()"
   ]
  },
  {
   "cell_type": "code",
   "execution_count": 3,
   "metadata": {},
   "outputs": [],
   "source": [
    "import pandas as pd\n",
    "from sklearn.tree import DecisionTreeClassifier\n",
    "from sklearn.model_selection import train_test_split\n",
    "from sklearn.metrics import accuracy_score\n",
    "import joblib\n",
    "from sklearn import tree\n",
    "\n",
    "music_data = pd.read_csv(\"music.csv\")\n",
    "x = music_data.drop(columns=[\"genre\"])\n",
    "y = music_data[\"genre\"]\n",
    "# x_train, x_test, y_train,y_test = train_test_split(x,y,test_size=0.1)\n",
    "\n",
    "model = DecisionTreeClassifier()\n",
    "model.fit(x, y)\n",
    "# model.fit(x_train,y_train)\n",
    "\n",
    "# joblib.dump(model, 'music_rec.joblib')\n",
    "\n",
    "\n",
    "# model = joblib.load('music_rec.joblib')\n",
    "# predictions = model.predict([[21,1]])\n",
    "# predictions\n",
    "\n",
    "# pred = model.predict(x_test)\n",
    "# score = accuracy_score(y_test,pred)\n",
    "\n",
    "\n",
    "tree.export_graphviz(\n",
    "    model,\n",
    "    out_file=\"music_rec.dot\",\n",
    "    feature_names=[\"age\", \"gender\"],\n",
    "    class_names=sorted(y.unique()),\n",
    "\trounded=True,\n",
    "\tfilled=True,\n",
    "\tlabel='all'\n",
    ")\n"
   ]
  },
  {
   "cell_type": "code",
   "execution_count": null,
   "metadata": {},
   "outputs": [],
   "source": [
    "for i in range(100000000):\n",
    "    pass\n"
   ]
  }
 ],
 "metadata": {
  "kernelspec": {
   "display_name": "venv",
   "language": "python",
   "name": "python3"
  },
  "language_info": {
   "codemirror_mode": {
    "name": "ipython",
    "version": 3
   },
   "file_extension": ".py",
   "mimetype": "text/x-python",
   "name": "python",
   "nbconvert_exporter": "python",
   "pygments_lexer": "ipython3",
   "version": "3.12.6"
  }
 },
 "nbformat": 4,
 "nbformat_minor": 2
}
