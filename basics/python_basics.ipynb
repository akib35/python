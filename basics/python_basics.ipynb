{
 "cells": [
  {
   "cell_type": "markdown",
   "metadata": {},
   "source": [
    "### Basics"
   ]
  },
  {
   "cell_type": "code",
   "execution_count": 6,
   "metadata": {},
   "outputs": [
    {
     "name": "stdout",
     "output_type": "stream",
     "text": [
      "512\n",
      "2\n",
      "2\n",
      "24\n",
      "2.6666666666666665\n",
      "11\n",
      "5\n",
      "['item', 'item', 'item']\n",
      "hello World\n",
      "hello Worldhello World\n"
     ]
    }
   ],
   "source": [
    "# math\n",
    "print(8**3)\n",
    "print(8 % 3)\n",
    "print(8 // 3)\n",
    "print(8 * 3)\n",
    "print(8 / 3)\n",
    "print(8 + 3)\n",
    "print(8 - 3)\n",
    "\n",
    "\n",
    "var = 0\n",
    "# augmented assignment\n",
    "var += 1\n",
    "var **= 2\n",
    "\n",
    "my_list = [\"item\"]\n",
    "my_list *= 3\n",
    "print(my_list)\n",
    "\n",
    "# Walrus Operator\n",
    "print(my_var:=\"hello World\")\n",
    "print(my_var*2)\n",
    "\n",
    "def foo():\n",
    "\t\"\"\"\n",
    "\tThis is a function docstring\n",
    "\tYou can also use:\n",
    "\t''' Function Docstring '''\t\n",
    "\n",
    "\t\"\"\"\n",
    "\t\n",
    "\n",
    "foo()"
   ]
  },
  {
   "cell_type": "markdown",
   "metadata": {},
   "source": [
    "### Built-in functions"
   ]
  }
 ],
 "metadata": {
  "kernelspec": {
   "display_name": "Python 3",
   "language": "python",
   "name": "python3"
  },
  "language_info": {
   "codemirror_mode": {
    "name": "ipython",
    "version": 3
   },
   "file_extension": ".py",
   "mimetype": "text/x-python",
   "name": "python",
   "nbconvert_exporter": "python",
   "pygments_lexer": "ipython3",
   "version": "3.11.8"
  }
 },
 "nbformat": 4,
 "nbformat_minor": 2
}
